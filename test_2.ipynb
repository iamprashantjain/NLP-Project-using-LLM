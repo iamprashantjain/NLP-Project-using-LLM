{
 "cells": [
  {
   "cell_type": "markdown",
   "id": "10e8c693",
   "metadata": {},
   "source": [
    "## 1st Iteration\n",
    "- Run on Sample(1000) to understand key themes"
   ]
  },
  {
   "cell_type": "markdown",
   "id": "fa0ab1d8",
   "metadata": {},
   "source": [
    "### Data & Imports"
   ]
  },
  {
   "cell_type": "code",
   "execution_count": 110,
   "id": "056ba1a8",
   "metadata": {},
   "outputs": [],
   "source": [
    "import pandas as pd\n",
    "import re\n",
    "import json\n",
    "import os\n",
    "import math\n",
    "from openai import OpenAI\n",
    "from dotenv import load_dotenv\n",
    "import time"
   ]
  },
  {
   "cell_type": "code",
   "execution_count": 111,
   "id": "fd398e8a",
   "metadata": {},
   "outputs": [],
   "source": [
    "df = pd.read_csv(\"Project_Sandals_Google_Reviews_V2.csv\")\n",
    "df['reviews_id'] = df.index + 1\n",
    "df.dropna(subset='review_text', inplace=True)\n",
    "# df = df.sample(10)\n",
    "# reviews_df = df[['review_text','reviews_id']]"
   ]
  },
  {
   "cell_type": "code",
   "execution_count": 112,
   "id": "a915b937",
   "metadata": {},
   "outputs": [],
   "source": [
    "df = df[df['reviews_id'].isin([10713, 1013, 14431, 2545, 10050])]"
   ]
  },
  {
   "cell_type": "code",
   "execution_count": 113,
   "id": "54f4f3aa",
   "metadata": {},
   "outputs": [],
   "source": [
    "reviews_df = df[['review_text','reviews_id']]"
   ]
  },
  {
   "cell_type": "code",
   "execution_count": 114,
   "id": "1228ed6f",
   "metadata": {},
   "outputs": [
    {
     "name": "stderr",
     "output_type": "stream",
     "text": [
      "C:\\Users\\prjain\\AppData\\Local\\Temp\\ipykernel_20608\\2039213048.py:6: SettingWithCopyWarning: \n",
      "A value is trying to be set on a copy of a slice from a DataFrame.\n",
      "Try using .loc[row_indexer,col_indexer] = value instead\n",
      "\n",
      "See the caveats in the documentation: https://pandas.pydata.org/pandas-docs/stable/user_guide/indexing.html#returning-a-view-versus-a-copy\n",
      "  reviews_df['review_text'] = reviews_df['review_text'].apply(clean_review)\n"
     ]
    }
   ],
   "source": [
    "def clean_review(text):\n",
    "    text = re.sub(r\"<.*?>\", \"\", text)\n",
    "    text = text.replace(\"\\n\", \" \").strip()\n",
    "    return text\n",
    "\n",
    "reviews_df['review_text'] = reviews_df['review_text'].apply(clean_review)"
   ]
  },
  {
   "cell_type": "code",
   "execution_count": 115,
   "id": "0bc0715d",
   "metadata": {},
   "outputs": [
    {
     "name": "stderr",
     "output_type": "stream",
     "text": [
      "C:\\Users\\prjain\\AppData\\Local\\Temp\\ipykernel_20608\\2612990079.py:1: SettingWithCopyWarning: \n",
      "A value is trying to be set on a copy of a slice from a DataFrame.\n",
      "Try using .loc[row_indexer,col_indexer] = value instead\n",
      "\n",
      "See the caveats in the documentation: https://pandas.pydata.org/pandas-docs/stable/user_guide/indexing.html#returning-a-view-versus-a-copy\n",
      "  reviews_df['sentiment'] = None\n",
      "C:\\Users\\prjain\\AppData\\Local\\Temp\\ipykernel_20608\\2612990079.py:2: SettingWithCopyWarning: \n",
      "A value is trying to be set on a copy of a slice from a DataFrame.\n",
      "Try using .loc[row_indexer,col_indexer] = value instead\n",
      "\n",
      "See the caveats in the documentation: https://pandas.pydata.org/pandas-docs/stable/user_guide/indexing.html#returning-a-view-versus-a-copy\n",
      "  reviews_df['topic'] = None\n",
      "C:\\Users\\prjain\\AppData\\Local\\Temp\\ipykernel_20608\\2612990079.py:3: SettingWithCopyWarning: \n",
      "A value is trying to be set on a copy of a slice from a DataFrame.\n",
      "Try using .loc[row_indexer,col_indexer] = value instead\n",
      "\n",
      "See the caveats in the documentation: https://pandas.pydata.org/pandas-docs/stable/user_guide/indexing.html#returning-a-view-versus-a-copy\n",
      "  reviews_df['support_text'] = None\n",
      "C:\\Users\\prjain\\AppData\\Local\\Temp\\ipykernel_20608\\2612990079.py:4: SettingWithCopyWarning: \n",
      "A value is trying to be set on a copy of a slice from a DataFrame.\n",
      "Try using .loc[row_indexer,col_indexer] = value instead\n",
      "\n",
      "See the caveats in the documentation: https://pandas.pydata.org/pandas-docs/stable/user_guide/indexing.html#returning-a-view-versus-a-copy\n",
      "  reviews_df['translated_review_text'] = None\n"
     ]
    }
   ],
   "source": [
    "reviews_df['sentiment'] = None\n",
    "reviews_df['topic'] = None\n",
    "reviews_df['support_text'] = None\n",
    "reviews_df['translated_review_text'] = None"
   ]
  },
  {
   "cell_type": "code",
   "execution_count": 116,
   "id": "f5543a11",
   "metadata": {},
   "outputs": [
    {
     "data": {
      "text/html": [
       "<div>\n",
       "<style scoped>\n",
       "    .dataframe tbody tr th:only-of-type {\n",
       "        vertical-align: middle;\n",
       "    }\n",
       "\n",
       "    .dataframe tbody tr th {\n",
       "        vertical-align: top;\n",
       "    }\n",
       "\n",
       "    .dataframe thead th {\n",
       "        text-align: right;\n",
       "    }\n",
       "</style>\n",
       "<table border=\"1\" class=\"dataframe\">\n",
       "  <thead>\n",
       "    <tr style=\"text-align: right;\">\n",
       "      <th></th>\n",
       "      <th>review_text</th>\n",
       "      <th>reviews_id</th>\n",
       "      <th>sentiment</th>\n",
       "      <th>topic</th>\n",
       "      <th>support_text</th>\n",
       "      <th>translated_review_text</th>\n",
       "    </tr>\n",
       "  </thead>\n",
       "  <tbody>\n",
       "    <tr>\n",
       "      <th>1012</th>\n",
       "      <td>Wow, what a great location.  Had butler servic...</td>\n",
       "      <td>1013</td>\n",
       "      <td>None</td>\n",
       "      <td>None</td>\n",
       "      <td>None</td>\n",
       "      <td>None</td>\n",
       "    </tr>\n",
       "    <tr>\n",
       "      <th>2544</th>\n",
       "      <td>Our 2nd Sandals Trip (1st was Exuma last year)...</td>\n",
       "      <td>2545</td>\n",
       "      <td>None</td>\n",
       "      <td>None</td>\n",
       "      <td>None</td>\n",
       "      <td>None</td>\n",
       "    </tr>\n",
       "    <tr>\n",
       "      <th>10049</th>\n",
       "      <td>As a Marriott Loyalist, this property should n...</td>\n",
       "      <td>10050</td>\n",
       "      <td>None</td>\n",
       "      <td>None</td>\n",
       "      <td>None</td>\n",
       "      <td>None</td>\n",
       "    </tr>\n",
       "    <tr>\n",
       "      <th>10712</th>\n",
       "      <td>The place was not a good representation of Ant...</td>\n",
       "      <td>10713</td>\n",
       "      <td>None</td>\n",
       "      <td>None</td>\n",
       "      <td>None</td>\n",
       "      <td>None</td>\n",
       "    </tr>\n",
       "    <tr>\n",
       "      <th>14430</th>\n",
       "      <td>Stunning hotel and grounds, what's not to like...</td>\n",
       "      <td>14431</td>\n",
       "      <td>None</td>\n",
       "      <td>None</td>\n",
       "      <td>None</td>\n",
       "      <td>None</td>\n",
       "    </tr>\n",
       "  </tbody>\n",
       "</table>\n",
       "</div>"
      ],
      "text/plain": [
       "                                             review_text  reviews_id  \\\n",
       "1012   Wow, what a great location.  Had butler servic...        1013   \n",
       "2544   Our 2nd Sandals Trip (1st was Exuma last year)...        2545   \n",
       "10049  As a Marriott Loyalist, this property should n...       10050   \n",
       "10712  The place was not a good representation of Ant...       10713   \n",
       "14430  Stunning hotel and grounds, what's not to like...       14431   \n",
       "\n",
       "      sentiment topic support_text translated_review_text  \n",
       "1012       None  None         None                   None  \n",
       "2544       None  None         None                   None  \n",
       "10049      None  None         None                   None  \n",
       "10712      None  None         None                   None  \n",
       "14430      None  None         None                   None  "
      ]
     },
     "execution_count": 116,
     "metadata": {},
     "output_type": "execute_result"
    }
   ],
   "source": [
    "reviews_df"
   ]
  },
  {
   "cell_type": "markdown",
   "id": "e63739c4",
   "metadata": {},
   "source": [
    "### Batch Processing"
   ]
  },
  {
   "cell_type": "markdown",
   "id": "9aaec3bc",
   "metadata": {},
   "source": [
    "#### create input"
   ]
  },
  {
   "cell_type": "code",
   "execution_count": 119,
   "id": "40bf1b3f",
   "metadata": {},
   "outputs": [
    {
     "name": "stdout",
     "output_type": "stream",
     "text": [
      "Saved batch 1 with 5 lines (0.01 MB) to 'batchinput_part1.jsonl'\n"
     ]
    }
   ],
   "source": [
    "MAX_REQUESTS_PER_BATCH = 50000\n",
    "MAX_BATCH_SIZE_BYTES = 190 * 1024 * 1024  #190mb\n",
    "\n",
    "def build_request_line(review_id, review_text):\n",
    "    system_prompt = (\n",
    "    \"You are a helpful assistant that analyzes customer reviews.\\n\"\n",
    "    \"For each review:\\n\"\n",
    "    \"- If the review is not in English, translate it to English first and include the translated text.\\n\"\n",
    "    \"  If it's already in English, keep it as is and set translated_text to the original.\\n\"\n",
    "    \"- Use the English version of the review to:\\n\"\n",
    "    \"  - Determine the sentiment (Positive, Neutral, or Negative).\\n\"\n",
    "    \"  - Identify a short topic label from the following list:\\n\"\n",
    "    \"  - Extract a short **exact phrase** (verbatim) from the English text that supports the topic.\\n\\n\"\n",
    "    \"Return ONLY a strict JSON object with the following format (no explanations, no extra text):\\n\"\n",
    "    '{\"translated_text\": \"...\", \"sentiment\": \"...\", \"topic\": \"...\", \"support_text\": \"...\"}'\n",
    "    )\n",
    "\n",
    "    \n",
    "    request_body = {\n",
    "        \"custom_id\": str(review_id),\n",
    "        \"method\": \"POST\",\n",
    "        \"url\": \"/v1/chat/completions\",\n",
    "        \"body\": {\n",
    "            \"model\": \"gpt-4o-mini\",\n",
    "            \"messages\": [\n",
    "                {\"role\": \"system\", \"content\": system_prompt},\n",
    "                {\"role\": \"user\", \"content\": f\"Review: {review_text}\"}\n",
    "            ],\n",
    "            \"max_tokens\": 1024,         #increased token length as getting None in sentiment, topic & support text\n",
    "            \"temperature\": 0.0\n",
    "        }\n",
    "    }\n",
    "    return json.dumps(request_body)\n",
    "\n",
    "\n",
    "batch_num = 1\n",
    "batch_lines = []\n",
    "batch_size_bytes = 0\n",
    "\n",
    "for idx, row in reviews_df.iterrows():\n",
    "    line = build_request_line(row['reviews_id'], row['review_text']) + \"\\n\"\n",
    "    line_size = len(line.encode('utf-8'))\n",
    "\n",
    "    # Check if adding this line exceeds limits\n",
    "    if (len(batch_lines) >= MAX_REQUESTS_PER_BATCH) or (batch_size_bytes + line_size > MAX_BATCH_SIZE_BYTES):\n",
    "        # Write current batch to file\n",
    "        batch_file = f\"batchinput_part{batch_num}.jsonl\"\n",
    "        with open(batch_file, \"w\", encoding=\"utf-8\") as f:\n",
    "            f.writelines(batch_lines)\n",
    "        print(f\"Saved batch {batch_num} with {len(batch_lines)} lines ({batch_size_bytes / (1024*1024):.2f} MB) to '{batch_file}'\")\n",
    "\n",
    "        # Reset for next batch\n",
    "        batch_num += 1\n",
    "        batch_lines = []\n",
    "        batch_size_bytes = 0\n",
    "\n",
    "    # Add current line to batch\n",
    "    batch_lines.append(line)\n",
    "    batch_size_bytes += line_size\n",
    "\n",
    "# Save the last batch if any lines left\n",
    "if batch_lines:\n",
    "    batch_file = f\"batchinput_part{batch_num}.jsonl\"\n",
    "    with open(batch_file, \"w\", encoding=\"utf-8\") as f:\n",
    "        f.writelines(batch_lines)\n",
    "    print(f\"Saved batch {batch_num} with {len(batch_lines)} lines ({batch_size_bytes / (1024*1024):.2f} MB) to '{batch_file}'\")\n"
   ]
  },
  {
   "cell_type": "markdown",
   "id": "9c6bfa44",
   "metadata": {},
   "source": [
    "#### upload & create batch"
   ]
  },
  {
   "cell_type": "code",
   "execution_count": 120,
   "id": "8939ffad",
   "metadata": {},
   "outputs": [
    {
     "data": {
      "text/plain": [
       "['batchinput_part1.jsonl']"
      ]
     },
     "execution_count": 120,
     "metadata": {},
     "output_type": "execute_result"
    }
   ],
   "source": [
    "[f\"batchinput_part{i}.jsonl\" for i in range(1, batch_num + 1)]"
   ]
  },
  {
   "cell_type": "code",
   "execution_count": 121,
   "id": "52044aaa",
   "metadata": {},
   "outputs": [
    {
     "name": "stdout",
     "output_type": "stream",
     "text": [
      "Uploaded batchinput_part1.jsonl with file id: file-HcmnB7wd7o6qLXv1UAgSVg\n",
      "Created batch job for batchinput_part1.jsonl with job id: batch_687895fc0fd881908c797ce9544f4337\n"
     ]
    }
   ],
   "source": [
    "load_dotenv()\n",
    "openai = OpenAI(api_key=os.getenv(\"OPENAI_API_KEY\"))\n",
    "\n",
    "batch_job_ids = []\n",
    "\n",
    "# Assume batch_num is the number of batches you created before\n",
    "batch_files = [f\"batchinput_part{i}.jsonl\" for i in range(1, batch_num + 1)]\n",
    "\n",
    "for bf in batch_files:\n",
    "    # Upload the batch file\n",
    "    with open(bf, \"rb\") as f:\n",
    "        upload_response = openai.files.create(\n",
    "            file=f,\n",
    "            purpose=\"batch\",\n",
    "        )\n",
    "    input_file_id = upload_response.id\n",
    "    print(f\"Uploaded {bf} with file id: {input_file_id}\")\n",
    "\n",
    "    # Create a batch job for this uploaded file\n",
    "    batch_response = openai.batches.create(\n",
    "    input_file_id=input_file_id,\n",
    "    endpoint=\"/v1/chat/completions\",\n",
    "    completion_window=\"24h\",\n",
    "    )\n",
    "\n",
    "    print(f\"Created batch job for {bf} with job id: {batch_response.id}\")\n",
    "    batch_job_ids.append(batch_response.id)"
   ]
  },
  {
   "cell_type": "markdown",
   "id": "98468233",
   "metadata": {},
   "source": [
    "#### poll, download & merge output"
   ]
  },
  {
   "cell_type": "code",
   "execution_count": 122,
   "id": "0ad47f47",
   "metadata": {},
   "outputs": [],
   "source": [
    "def poll_and_download(batch_id):\n",
    "    print(f\"Polling batch job {batch_id}...\")\n",
    "    while True:\n",
    "        batch_info = openai.batches.retrieve(batch_id)\n",
    "        status = batch_info.status\n",
    "        print(f\"Status of batch {batch_id}: {status}\")\n",
    "        if status in [\"completed\", \"failed\", \"cancelled\", \"expired\"]:\n",
    "            break\n",
    "        time.sleep(10)\n",
    "\n",
    "    if status != \"completed\":\n",
    "        print(f\"Batch {batch_id} ended with status {status}. Skipping download.\")\n",
    "        return {}\n",
    "\n",
    "    output_file_id = batch_info.output_file_id\n",
    "    print(f\"Downloading results for batch {batch_id} with file id {output_file_id}...\")\n",
    "\n",
    "    output_file_response = openai.files.content(output_file_id)\n",
    "    output_lines = output_file_response.text.splitlines()\n",
    "\n",
    "    results = {}\n",
    "    for line in output_lines:\n",
    "        try:\n",
    "            result_json = json.loads(line)\n",
    "            custom_id = result_json.get(\"custom_id\")\n",
    "            response_body = result_json.get(\"response\", {}).get(\"body\", {})\n",
    "            choices = response_body.get(\"choices\", [])\n",
    "            if choices:\n",
    "                content = choices[0][\"message\"][\"content\"]\n",
    "                try:\n",
    "                    parsed_content = json.loads(content)\n",
    "                except json.JSONDecodeError:\n",
    "                    parsed_content = {\n",
    "                        \"error\": \"Invalid JSON in GPT response\",\n",
    "                        \"raw_content\": content\n",
    "                    }\n",
    "                results[custom_id] = parsed_content\n",
    "            else:\n",
    "                results[custom_id] = {\"error\": \"No choices in response\"}\n",
    "        except Exception as e:\n",
    "            print(f\"Error parsing line in batch {batch_id}: {e}\")\n",
    "    return results\n"
   ]
  },
  {
   "cell_type": "code",
   "execution_count": 123,
   "id": "d862bf5d",
   "metadata": {},
   "outputs": [
    {
     "name": "stdout",
     "output_type": "stream",
     "text": [
      "Polling batch job batch_687895fc0fd881908c797ce9544f4337...\n",
      "Status of batch batch_687895fc0fd881908c797ce9544f4337: in_progress\n",
      "Status of batch batch_687895fc0fd881908c797ce9544f4337: in_progress\n",
      "Status of batch batch_687895fc0fd881908c797ce9544f4337: in_progress\n",
      "Status of batch batch_687895fc0fd881908c797ce9544f4337: in_progress\n",
      "Status of batch batch_687895fc0fd881908c797ce9544f4337: in_progress\n",
      "Status of batch batch_687895fc0fd881908c797ce9544f4337: in_progress\n",
      "Status of batch batch_687895fc0fd881908c797ce9544f4337: in_progress\n",
      "Status of batch batch_687895fc0fd881908c797ce9544f4337: in_progress\n",
      "Status of batch batch_687895fc0fd881908c797ce9544f4337: completed\n",
      "Downloading results for batch batch_687895fc0fd881908c797ce9544f4337 with file id file-FtvUwVV81Dn4GunRKwCKkH...\n",
      "Total results fetched: 5\n"
     ]
    }
   ],
   "source": [
    "all_results = {}\n",
    "for job_id in batch_job_ids:\n",
    "    batch_results = poll_and_download(job_id)\n",
    "    all_results.update(batch_results)\n",
    "\n",
    "print(f\"Total results fetched: {len(all_results)}\")\n",
    "\n",
    "for col in ['sentiment', 'topic', 'support_text']:\n",
    "    if col not in reviews_df.columns:\n",
    "        reviews_df[col] = None\n",
    "\n",
    "for cid, res in all_results.items():\n",
    "    if \"error\" in res:\n",
    "        continue  # skip errored entries\n",
    "    \n",
    "    sentiment = res.get(\"sentiment\")\n",
    "    topic = res.get(\"topic\")\n",
    "    support_text = res.get(\"support_text\")\n",
    "    translated_text = res.get(\"translated_text\")\n",
    "\n",
    "    mask = reviews_df['reviews_id'].astype(str) == cid\n",
    "    \n",
    "    # Update sentiment, topic, support_text\n",
    "    reviews_df.loc[mask, 'sentiment'] = sentiment\n",
    "    reviews_df.loc[mask, 'topic'] = topic\n",
    "    reviews_df.loc[mask, 'support_text'] = support_text\n",
    "\n",
    "    # Update review_text if translated_text is present and different\n",
    "    if translated_text and translated_text.strip() and translated_text.strip() != reviews_df.loc[mask, 'review_text'].values[0].strip():\n",
    "        reviews_df.loc[mask, 'review_text'] = translated_text.strip()"
   ]
  },
  {
   "cell_type": "markdown",
   "id": "46b809d5",
   "metadata": {},
   "source": [
    "#### post processing"
   ]
  },
  {
   "cell_type": "code",
   "execution_count": 124,
   "id": "ee13bde6",
   "metadata": {},
   "outputs": [
    {
     "data": {
      "text/html": [
       "<div>\n",
       "<style scoped>\n",
       "    .dataframe tbody tr th:only-of-type {\n",
       "        vertical-align: middle;\n",
       "    }\n",
       "\n",
       "    .dataframe tbody tr th {\n",
       "        vertical-align: top;\n",
       "    }\n",
       "\n",
       "    .dataframe thead th {\n",
       "        text-align: right;\n",
       "    }\n",
       "</style>\n",
       "<table border=\"1\" class=\"dataframe\">\n",
       "  <thead>\n",
       "    <tr style=\"text-align: right;\">\n",
       "      <th></th>\n",
       "      <th>review_text</th>\n",
       "      <th>reviews_id</th>\n",
       "      <th>sentiment</th>\n",
       "      <th>topic</th>\n",
       "      <th>support_text</th>\n",
       "      <th>translated_review_text</th>\n",
       "    </tr>\n",
       "  </thead>\n",
       "  <tbody>\n",
       "    <tr>\n",
       "      <th>1012</th>\n",
       "      <td>Wow, what a great location.  Had butler servic...</td>\n",
       "      <td>1013</td>\n",
       "      <td>Positive</td>\n",
       "      <td>Service</td>\n",
       "      <td>Nick, Navarro, and Delano were fantastic.</td>\n",
       "      <td>None</td>\n",
       "    </tr>\n",
       "    <tr>\n",
       "      <th>2544</th>\n",
       "      <td>Our 2nd Sandals Trip (1st was Exuma last year)...</td>\n",
       "      <td>2545</td>\n",
       "      <td>Positive</td>\n",
       "      <td>Service</td>\n",
       "      <td>Dillon was OUTSTANDING!</td>\n",
       "      <td>None</td>\n",
       "    </tr>\n",
       "    <tr>\n",
       "      <th>10049</th>\n",
       "      <td>As a Marriott Loyalist, this property should n...</td>\n",
       "      <td>10050</td>\n",
       "      <td>Neutral</td>\n",
       "      <td>Property Maintenance</td>\n",
       "      <td>the rooms, pool areas, cabanas, need routine m...</td>\n",
       "      <td>None</td>\n",
       "    </tr>\n",
       "    <tr>\n",
       "      <th>10712</th>\n",
       "      <td>The place was not a good representation of Ant...</td>\n",
       "      <td>10713</td>\n",
       "      <td>Negative</td>\n",
       "      <td>Service Quality</td>\n",
       "      <td>Terrible service, unclean facilities</td>\n",
       "      <td>None</td>\n",
       "    </tr>\n",
       "    <tr>\n",
       "      <th>14430</th>\n",
       "      <td>Stunning hotel and grounds, what's not to like...</td>\n",
       "      <td>14431</td>\n",
       "      <td>Positive</td>\n",
       "      <td>Hotel Experience</td>\n",
       "      <td>Stunning hotel and grounds</td>\n",
       "      <td>None</td>\n",
       "    </tr>\n",
       "  </tbody>\n",
       "</table>\n",
       "</div>"
      ],
      "text/plain": [
       "                                             review_text  reviews_id  \\\n",
       "1012   Wow, what a great location.  Had butler servic...        1013   \n",
       "2544   Our 2nd Sandals Trip (1st was Exuma last year)...        2545   \n",
       "10049  As a Marriott Loyalist, this property should n...       10050   \n",
       "10712  The place was not a good representation of Ant...       10713   \n",
       "14430  Stunning hotel and grounds, what's not to like...       14431   \n",
       "\n",
       "      sentiment                 topic  \\\n",
       "1012   Positive               Service   \n",
       "2544   Positive               Service   \n",
       "10049   Neutral  Property Maintenance   \n",
       "10712  Negative       Service Quality   \n",
       "14430  Positive      Hotel Experience   \n",
       "\n",
       "                                            support_text  \\\n",
       "1012           Nick, Navarro, and Delano were fantastic.   \n",
       "2544                             Dillon was OUTSTANDING!   \n",
       "10049  the rooms, pool areas, cabanas, need routine m...   \n",
       "10712               Terrible service, unclean facilities   \n",
       "14430                         Stunning hotel and grounds   \n",
       "\n",
       "      translated_review_text  \n",
       "1012                    None  \n",
       "2544                    None  \n",
       "10049                   None  \n",
       "10712                   None  \n",
       "14430                   None  "
      ]
     },
     "execution_count": 124,
     "metadata": {},
     "output_type": "execute_result"
    }
   ],
   "source": [
    "reviews_df"
   ]
  },
  {
   "cell_type": "code",
   "execution_count": 109,
   "id": "92ea2e60",
   "metadata": {},
   "outputs": [
    {
     "data": {
      "text/plain": [
       "'As a Marriott Loyalist, this property should not be considered a 5-star resorts per Marriott standards.  It is a property that has not yet found its identity.  I would rate it 3.5 stars with a 5-star designation for the bungalows and the availability of the Diamond club services. It is a small property, not as large as what one would think of when using the word resort.  Although the landscaping, is well maintained, the rooms, pool areas, cabanas, need routine maintenance, if addressed in a timely manner, these would not be major issues.   Rooms do have a slight musty smell, and one guest on our floor did complain about a sewage smell, but I believed they were able to clean out their shower drain and it took care of the problem.   Perhaps having repair cards available in rooms where guest can alert the property to minor repairs before they become major, could assist them.  The Food in the specialty restaurants was ok and although I had no problem eating in the buffet, it was basically the same options served every day.   In my opinion, the people of Antigua  are proud of their Island and want to make all visitors experiences a positive one.   Many of the complaints may stem from the designation of a 5-star Resort “Casino” and Spa, which has caused a higher level of expectation and entitlement than the “Marriott” Royalton Antiqua can deliver.  A little work, a little rebranding, and a managerial/executive initiative to truly listen and actually act on some of the reviews in lieu of the standard thank-you canned responses could help in escalating this property to the level of achievement it is trying and deserve to be at. Check-in- Process –Unless we arrived on an off day, this process needs to be improved.  As Diamond club, you are escorted to an area up front to wait for a scooter to take you to the Diamond Club lounge.  Once at the Diamond Club Lounge, you again wait again for check-in.   Process took well over an hour.  Assigned Butlers Matara and Paul were excellent meeting all needs and promptly filling all requests. Every staff member, I encountered always had a positive greeting and smile. Having had a career in the service industry, I am more critical than others, but had no criticism what so other involving the staff.  Guests, however, in some cases were another story.  There are ways to express displeasure with out condescending, disrespect, and talking down to the staff. (Diamond Swim-out). The rooms had a slight musty smell, but I could find no evidence of mold.  They were a good size, and the beds were comfortable.    The swim outs were great, some of the tiles needed to be replaced, however that is a routine maintenance negative aesthetic observation. *If you book a Swim out room preference should be on the 10 side.  There is a little more privacy.   We also visited our friends who upgraded to a bungalow.  The online pictures do not do the bungalow justice!  Diamond Club Amenities include the Butler service, a lounge which has snacks throughout the day and top shelf liquor.  By booking a Diamond room you receive a fruit plate and champagne on arrival, plus each room is entitled to your choice of a top shelf litre of liquor. Diamond club also offers a    private section of beach, private pool and jacuzzi, separate pool side bar and grill, and Cabanas (for rent) on Diamond side which is quieter than the Cabanas located in the main pool area. There is a small stretch beach which is clean, and tranquil with beautiful calm blue/turquoise water.  The pool on the Diamond side was clean and quiet. Plenty of seating and staff service for drinks and/ or food.   The non- Diamond side pool was full of fun and activities with the Vibe team engaging the guest to enjoy their vacation to the fullest There is enough entertainment to keep you busy- Theme nights, White Party, etc. Although stated on some websites there is no Casino on site and has not been for some time'"
      ]
     },
     "execution_count": 109,
     "metadata": {},
     "output_type": "execute_result"
    }
   ],
   "source": [
    "reviews_df['review_text'].loc[10049]"
   ]
  },
  {
   "cell_type": "code",
   "execution_count": 76,
   "id": "8cbc6e88",
   "metadata": {},
   "outputs": [
    {
     "data": {
      "text/html": [
       "<div>\n",
       "<style scoped>\n",
       "    .dataframe tbody tr th:only-of-type {\n",
       "        vertical-align: middle;\n",
       "    }\n",
       "\n",
       "    .dataframe tbody tr th {\n",
       "        vertical-align: top;\n",
       "    }\n",
       "\n",
       "    .dataframe thead th {\n",
       "        text-align: right;\n",
       "    }\n",
       "</style>\n",
       "<table border=\"1\" class=\"dataframe\">\n",
       "  <thead>\n",
       "    <tr style=\"text-align: right;\">\n",
       "      <th></th>\n",
       "      <th>review_text</th>\n",
       "      <th>reviews_id</th>\n",
       "      <th>sentiment</th>\n",
       "      <th>topic</th>\n",
       "      <th>support_text</th>\n",
       "      <th>translated_review_text</th>\n",
       "    </tr>\n",
       "  </thead>\n",
       "  <tbody>\n",
       "    <tr>\n",
       "      <th>10712</th>\n",
       "      <td>The place was not a good representation of Ant...</td>\n",
       "      <td>10713</td>\n",
       "      <td>Negative</td>\n",
       "      <td>Service and cleanliness</td>\n",
       "      <td>Terrible service, unclean facilities</td>\n",
       "      <td>None</td>\n",
       "    </tr>\n",
       "    <tr>\n",
       "      <th>1012</th>\n",
       "      <td>Wow, what a great location.  Had butler servic...</td>\n",
       "      <td>1013</td>\n",
       "      <td>Positive</td>\n",
       "      <td>Great service and food</td>\n",
       "      <td>Food is the best at all the Sandals resorts.</td>\n",
       "      <td>None</td>\n",
       "    </tr>\n",
       "    <tr>\n",
       "      <th>14430</th>\n",
       "      <td>Stunning hotel and grounds, what's not to like...</td>\n",
       "      <td>14431</td>\n",
       "      <td>Positive</td>\n",
       "      <td>Hotel experience</td>\n",
       "      <td>Stunning hotel and grounds</td>\n",
       "      <td>None</td>\n",
       "    </tr>\n",
       "    <tr>\n",
       "      <th>2544</th>\n",
       "      <td>Our 2nd Sandals Trip (1st was Exuma last year)...</td>\n",
       "      <td>2545</td>\n",
       "      <td>None</td>\n",
       "      <td>None</td>\n",
       "      <td>None</td>\n",
       "      <td>None</td>\n",
       "    </tr>\n",
       "    <tr>\n",
       "      <th>10049</th>\n",
       "      <td>As a Marriott Loyalist, this property should n...</td>\n",
       "      <td>10050</td>\n",
       "      <td>None</td>\n",
       "      <td>None</td>\n",
       "      <td>None</td>\n",
       "      <td>None</td>\n",
       "    </tr>\n",
       "  </tbody>\n",
       "</table>\n",
       "</div>"
      ],
      "text/plain": [
       "                                             review_text  reviews_id  \\\n",
       "10712  The place was not a good representation of Ant...       10713   \n",
       "1012   Wow, what a great location.  Had butler servic...        1013   \n",
       "14430  Stunning hotel and grounds, what's not to like...       14431   \n",
       "2544   Our 2nd Sandals Trip (1st was Exuma last year)...        2545   \n",
       "10049  As a Marriott Loyalist, this property should n...       10050   \n",
       "\n",
       "      sentiment                    topic  \\\n",
       "10712  Negative  Service and cleanliness   \n",
       "1012   Positive   Great service and food   \n",
       "14430  Positive         Hotel experience   \n",
       "2544       None                     None   \n",
       "10049      None                     None   \n",
       "\n",
       "                                       support_text translated_review_text  \n",
       "10712          Terrible service, unclean facilities                   None  \n",
       "1012   Food is the best at all the Sandals resorts.                   None  \n",
       "14430                    Stunning hotel and grounds                   None  \n",
       "2544                                           None                   None  \n",
       "10049                                          None                   None  "
      ]
     },
     "execution_count": 76,
     "metadata": {},
     "output_type": "execute_result"
    }
   ],
   "source": [
    "reviews_df.sample(5)"
   ]
  },
  {
   "cell_type": "code",
   "execution_count": 85,
   "id": "30aefecd",
   "metadata": {},
   "outputs": [],
   "source": [
    "# check above : why getting None in sentiment, topic, support_text & translated_review_text\n",
    "# bcoz review_text is very very long hitting token limit -- we have to truncate long texts for gpt-4o-mini (8k) or use gpt-4o (32k)\n",
    "# check above rows with gpt-4o if working"
   ]
  },
  {
   "cell_type": "code",
   "execution_count": null,
   "id": "d12a2552",
   "metadata": {},
   "outputs": [],
   "source": [
    "# temp_df = reviews_df[reviews_df['reviews_id'].isin([10713, 1013, 14431, 2545, 10050])]\n",
    "# temp_df.to_csv(\"error_rows.csv\", index=False, encoding='utf-8-sig')"
   ]
  },
  {
   "cell_type": "code",
   "execution_count": 80,
   "id": "84c05915",
   "metadata": {},
   "outputs": [
    {
     "data": {
      "text/plain": [
       "'As a Marriott Loyalist, this property should not be considered a 5-star resorts per Marriott standards.  It is a property that has not yet found its identity.  I would rate it 3.5 stars with a 5-star designation for the bungalows and the availability of the Diamond club services. It is a small property, not as large as what one would think of when using the word resort.  Although the landscaping, is well maintained, the rooms, pool areas, cabanas, need routine maintenance, if addressed in a timely manner, these would not be major issues.   Rooms do have a slight musty smell, and one guest on our floor did complain about a sewage smell, but I believed they were able to clean out their shower drain and it took care of the problem.   Perhaps having repair cards available in rooms where guest can alert the property to minor repairs before they become major, could assist them.  The Food in the specialty restaurants was ok and although I had no problem eating in the buffet, it was basically the same options served every day.   In my opinion, the people of Antigua  are proud of their Island and want to make all visitors experiences a positive one.   Many of the complaints may stem from the designation of a 5-star Resort “Casino” and Spa, which has caused a higher level of expectation and entitlement than the “Marriott” Royalton Antiqua can deliver.  A little work, a little rebranding, and a managerial/executive initiative to truly listen and actually act on some of the reviews in lieu of the standard thank-you canned responses could help in escalating this property to the level of achievement it is trying and deserve to be at. Check-in- Process –Unless we arrived on an off day, this process needs to be improved.  As Diamond club, you are escorted to an area up front to wait for a scooter to take you to the Diamond Club lounge.  Once at the Diamond Club Lounge, you again wait again for check-in.   Process took well over an hour.  Assigned Butlers Matara and Paul were excellent meeting all needs and promptly filling all requests. Every staff member, I encountered always had a positive greeting and smile. Having had a career in the service industry, I am more critical than others, but had no criticism what so other involving the staff.  Guests, however, in some cases were another story.  There are ways to express displeasure with out condescending, disrespect, and talking down to the staff. (Diamond Swim-out). The rooms had a slight musty smell, but I could find no evidence of mold.  They were a good size, and the beds were comfortable.    The swim outs were great, some of the tiles needed to be replaced, however that is a routine maintenance negative aesthetic observation. *If you book a Swim out room preference should be on the 10 side.  There is a little more privacy.   We also visited our friends who upgraded to a bungalow.  The online pictures do not do the bungalow justice!  Diamond Club Amenities include the Butler service, a lounge which has snacks throughout the day and top shelf liquor.  By booking a Diamond room you receive a fruit plate and champagne on arrival, plus each room is entitled to your choice of a top shelf litre of liquor. Diamond club also offers a    private section of beach, private pool and jacuzzi, separate pool side bar and grill, and Cabanas (for rent) on Diamond side which is quieter than the Cabanas located in the main pool area. There is a small stretch beach which is clean, and tranquil with beautiful calm blue/turquoise water.  The pool on the Diamond side was clean and quiet. Plenty of seating and staff service for drinks and/ or food.   The non- Diamond side pool was full of fun and activities with the Vibe team engaging the guest to enjoy their vacation to the fullest There is enough entertainment to keep you busy- Theme nights, White Party, etc. Although stated on some websites there is no Casino on site and has not been for some time'"
      ]
     },
     "execution_count": 80,
     "metadata": {},
     "output_type": "execute_result"
    }
   ],
   "source": [
    "reviews_df['review_text'].loc[10049]"
   ]
  },
  {
   "cell_type": "code",
   "execution_count": 67,
   "id": "5c111586",
   "metadata": {},
   "outputs": [
    {
     "data": {
      "text/plain": [
       "topic\n",
       "Great service and entertainment    1\n",
       "Hotel experience                   1\n",
       "Service and cleanliness            1\n",
       "Overall Satisfaction               1\n",
       "Anniversary trip experience        1\n",
       "Great service and food             1\n",
       "Relaxation                         1\n",
       "Resort experience                  1\n",
       "Name: count, dtype: int64"
      ]
     },
     "execution_count": 67,
     "metadata": {},
     "output_type": "execute_result"
    }
   ],
   "source": [
    "reviews_df['topic'].value_counts()"
   ]
  },
  {
   "cell_type": "code",
   "execution_count": 68,
   "id": "b1f4d77f",
   "metadata": {},
   "outputs": [],
   "source": [
    "# extract key themes from this sample\n",
    "# run that list of themes on entire dataset"
   ]
  },
  {
   "cell_type": "code",
   "execution_count": 69,
   "id": "ce696718",
   "metadata": {},
   "outputs": [
    {
     "data": {
      "text/plain": [
       "['Great service and entertainment',\n",
       " 'Hotel experience',\n",
       " 'Service and cleanliness',\n",
       " 'Overall Satisfaction',\n",
       " 'Anniversary trip experience',\n",
       " 'Great service and food',\n",
       " 'Relaxation',\n",
       " 'Resort experience']"
      ]
     },
     "execution_count": 69,
     "metadata": {},
     "output_type": "execute_result"
    }
   ],
   "source": [
    "reviews_df['topic'].dropna().unique().tolist()"
   ]
  },
  {
   "cell_type": "code",
   "execution_count": 70,
   "id": "c23ecff3",
   "metadata": {},
   "outputs": [],
   "source": [
    "###chatgpt prompt to create a concise list using above list from : reviews_df['topic'].dropna().unique().tolist()\n",
    "\n",
    "# You are a data analyst assisting with text clustering.\n",
    "\n",
    "# Given a list of specific review topic phrases, your task is to:\n",
    "# 1. Identify common semantic themes shared across the list.\n",
    "# 2. Merge overlapping topics and group them under broader, high-level categories.\n",
    "# 3. Return a concise list of unique, generalized topic labels (each 1–3 words long). \n",
    "# 4. Avoid repeating similar concepts with different wording — generalize wherever possible.\n",
    "# 5. Output only a clean Python list of the merged topics.\n",
    "\n",
    "# Input:\n",
    "# <input list>\n",
    "\n",
    "# Return:\n",
    "# A Python list named `broader_topics` containing the merged, high-level categories."
   ]
  },
  {
   "cell_type": "markdown",
   "id": "5a40ef80",
   "metadata": {},
   "source": [
    "## Iteration 2: Run full dataset using predefined topic list"
   ]
  },
  {
   "cell_type": "code",
   "execution_count": null,
   "id": "1595723d",
   "metadata": {},
   "outputs": [],
   "source": [
    "import pandas as pd\n",
    "import re\n",
    "import json\n",
    "import os\n",
    "import math\n",
    "from openai import OpenAI\n",
    "from dotenv import load_dotenv\n",
    "import time\n",
    "\n",
    "\n",
    "# broader_topics = []\n",
    "\n",
    "\n",
    "df = pd.read_csv(\"Project_Sandals_Google_Reviews_V2.csv\")\n",
    "df['reviews_id'] = df.index + 1\n",
    "df.dropna(subset='review_text', inplace=True)\n",
    "df = df.sample(5000)\n",
    "reviews_df = df[['review_text','reviews_id']]\n",
    "\n",
    "\n",
    "def clean_review(text):\n",
    "    text = re.sub(r\"<.*?>\", \"\", text)\n",
    "    text = text.replace(\"\\n\", \" \").strip()\n",
    "    return text\n",
    "\n",
    "\n",
    "reviews_df['review_text'] = reviews_df['review_text'].apply(clean_review)\n",
    "\n",
    "\n",
    "reviews_df['sentiment'] = None\n",
    "reviews_df['topic'] = None\n",
    "reviews_df['support_text'] = None\n",
    "reviews_df['translated_review_text'] = None\n",
    "\n",
    "\n",
    "MAX_REQUESTS_PER_BATCH = 50000\n",
    "MAX_BATCH_SIZE_BYTES = 190 * 1024 * 1024  #190mb\n",
    "\n",
    "def build_request_line(review_id, review_text):\n",
    "    system_prompt = (\n",
    "        \"You are a helpful assistant that analyzes customer reviews.\\n\"\n",
    "        \"For each review:\\n\"\n",
    "        \"- If the review is not in English, translate it to English first and include the translated text.\\n\"\n",
    "        \"  If it's already in English, keep it as is and set translated_text to the original.\\n\"\n",
    "        \"- Use the English version of the review to:\\n\"\n",
    "        \"  - Determine the sentiment (Positive, Neutral, or Negative).\\n\"\n",
    "        f\"  - Identify a short topic label from the following list: {', '.join(broader_topics)}.\\n\"\n",
    "        \"  - Extract a short **exact phrase** (verbatim) from the English text that supports the topic.\\n\\n\"\n",
    "        \"Return your answer in this JSON format:\\n\"\n",
    "        '{\"translated_text\": \"...\", \"sentiment\": \"...\", \"topic\": \"...\", \"support_text\": \"...\"}'\n",
    "    )\n",
    "    \n",
    "    request_body = {\n",
    "        \"custom_id\": str(review_id),\n",
    "        \"method\": \"POST\",\n",
    "        \"url\": \"/v1/chat/completions\",\n",
    "        \"body\": {\n",
    "            \"model\": \"gpt-4o-mini\",\n",
    "            \"messages\": [\n",
    "                {\"role\": \"system\", \"content\": system_prompt},\n",
    "                {\"role\": \"user\", \"content\": f\"Review: {review_text}\"}\n",
    "            ],\n",
    "            \"max_tokens\": 150,\n",
    "            \"temperature\": 0.0\n",
    "        }\n",
    "    }\n",
    "    return json.dumps(request_body)\n",
    "\n",
    "\n",
    "batch_num = 1\n",
    "batch_lines = []\n",
    "batch_size_bytes = 0\n",
    "\n",
    "for idx, row in reviews_df.iterrows():\n",
    "    line = build_request_line(row['reviews_id'], row['review_text']) + \"\\n\"\n",
    "    line_size = len(line.encode('utf-8'))\n",
    "\n",
    "    # Check if adding this line exceeds limits\n",
    "    if (len(batch_lines) >= MAX_REQUESTS_PER_BATCH) or (batch_size_bytes + line_size > MAX_BATCH_SIZE_BYTES):\n",
    "        # Write current batch to file\n",
    "        batch_file = f\"batchinput_part{batch_num}.jsonl\"\n",
    "        with open(batch_file, \"w\", encoding=\"utf-8\") as f:\n",
    "            f.writelines(batch_lines)\n",
    "        print(f\"Saved batch {batch_num} with {len(batch_lines)} lines ({batch_size_bytes / (1024*1024):.2f} MB) to '{batch_file}'\")\n",
    "\n",
    "        # Reset for next batch\n",
    "        batch_num += 1\n",
    "        batch_lines = []\n",
    "        batch_size_bytes = 0\n",
    "\n",
    "    # Add current line to batch\n",
    "    batch_lines.append(line)\n",
    "    batch_size_bytes += line_size\n",
    "\n",
    "# Save the last batch if any lines left\n",
    "if batch_lines:\n",
    "    batch_file = f\"batchinput_part{batch_num}.jsonl\"\n",
    "    with open(batch_file, \"w\", encoding=\"utf-8\") as f:\n",
    "        f.writelines(batch_lines)\n",
    "    print(f\"Saved batch {batch_num} with {len(batch_lines)} lines ({batch_size_bytes / (1024*1024):.2f} MB) to '{batch_file}'\")\n",
    "\n",
    "\n",
    "\n",
    "load_dotenv()\n",
    "openai = OpenAI(api_key=os.getenv(\"OPENAI_API_KEY\"))\n",
    "\n",
    "batch_job_ids = []\n",
    "\n",
    "# Assume batch_num is the number of batches you created before\n",
    "batch_files = [f\"batchinput_part{i}.jsonl\" for i in range(1, batch_num + 1)]\n",
    "\n",
    "for bf in batch_files:\n",
    "    # Upload the batch file\n",
    "    with open(bf, \"rb\") as f:\n",
    "        upload_response = openai.files.create(\n",
    "            file=f,\n",
    "            purpose=\"batch\",\n",
    "        )\n",
    "    input_file_id = upload_response.id\n",
    "    print(f\"Uploaded {bf} with file id: {input_file_id}\")\n",
    "\n",
    "    # Create a batch job for this uploaded file\n",
    "    batch_response = openai.batches.create(\n",
    "    input_file_id=input_file_id,\n",
    "    endpoint=\"/v1/chat/completions\",\n",
    "    completion_window=\"24h\",\n",
    "    )\n",
    "\n",
    "    print(f\"Created batch job for {bf} with job id: {batch_response.id}\")\n",
    "    batch_job_ids.append(batch_response.id)\n",
    "\n",
    "\n",
    "\n",
    "def poll_and_download(batch_id):\n",
    "    print(f\"Polling batch job {batch_id}...\")\n",
    "    while True:\n",
    "        batch_info = openai.batches.retrieve(batch_id)\n",
    "        status = batch_info.status\n",
    "        print(f\"Status of batch {batch_id}: {status}\")\n",
    "        if status in [\"completed\", \"failed\", \"cancelled\", \"expired\"]:\n",
    "            break\n",
    "        time.sleep(10)\n",
    "\n",
    "    if status != \"completed\":\n",
    "        print(f\"Batch {batch_id} ended with status {status}. Skipping download.\")\n",
    "        return {}\n",
    "\n",
    "    output_file_id = batch_info.output_file_id\n",
    "    print(f\"Downloading results for batch {batch_id} with file id {output_file_id}...\")\n",
    "\n",
    "    output_file_response = openai.files.content(output_file_id)\n",
    "    output_lines = output_file_response.text.splitlines()\n",
    "\n",
    "    results = {}\n",
    "    for line in output_lines:\n",
    "        try:\n",
    "            result_json = json.loads(line)\n",
    "            custom_id = result_json.get(\"custom_id\")\n",
    "            response_body = result_json.get(\"response\", {}).get(\"body\", {})\n",
    "            choices = response_body.get(\"choices\", [])\n",
    "            if choices:\n",
    "                content = choices[0][\"message\"][\"content\"]\n",
    "                try:\n",
    "                    parsed_content = json.loads(content)\n",
    "                except json.JSONDecodeError:\n",
    "                    parsed_content = {\n",
    "                        \"error\": \"Invalid JSON in GPT response\",\n",
    "                        \"raw_content\": content\n",
    "                    }\n",
    "                results[custom_id] = parsed_content\n",
    "            else:\n",
    "                results[custom_id] = {\"error\": \"No choices in response\"}\n",
    "        except Exception as e:\n",
    "            print(f\"Error parsing line in batch {batch_id}: {e}\")\n",
    "    return results\n",
    "\n",
    "\n",
    "\n",
    "all_results = {}\n",
    "for job_id in batch_job_ids:\n",
    "    batch_results = poll_and_download(job_id)\n",
    "    all_results.update(batch_results)\n",
    "\n",
    "print(f\"Total results fetched: {len(all_results)}\")\n",
    "\n",
    "for col in ['sentiment', 'topic', 'support_text']:\n",
    "    if col not in reviews_df.columns:\n",
    "        reviews_df[col] = None\n",
    "\n",
    "for cid, res in all_results.items():\n",
    "    if \"error\" in res:\n",
    "        continue  # skip errored entries\n",
    "    \n",
    "    sentiment = res.get(\"sentiment\")\n",
    "    topic = res.get(\"topic\")\n",
    "    support_text = res.get(\"support_text\")\n",
    "    translated_text = res.get(\"translated_text\")\n",
    "\n",
    "    mask = reviews_df['reviews_id'].astype(str) == cid\n",
    "    \n",
    "    # Update sentiment, topic, support_text\n",
    "    reviews_df.loc[mask, 'sentiment'] = sentiment\n",
    "    reviews_df.loc[mask, 'topic'] = topic\n",
    "    reviews_df.loc[mask, 'support_text'] = support_text\n",
    "\n",
    "    # Update review_text if translated_text is present and different\n",
    "    if translated_text and translated_text.strip() and translated_text.strip() != reviews_df.loc[mask, 'review_text'].values[0].strip():\n",
    "        reviews_df.loc[mask, 'review_text'] = translated_text.strip()"
   ]
  },
  {
   "cell_type": "markdown",
   "id": "59c36dfa",
   "metadata": {},
   "source": [
    "## Extract broader topic list from openAI also & then pass it so everything will be automated"
   ]
  },
  {
   "cell_type": "markdown",
   "id": "8f20b784",
   "metadata": {},
   "source": []
  }
 ],
 "metadata": {
  "kernelspec": {
   "display_name": "Python 3",
   "language": "python",
   "name": "python3"
  },
  "language_info": {
   "codemirror_mode": {
    "name": "ipython",
    "version": 3
   },
   "file_extension": ".py",
   "mimetype": "text/x-python",
   "name": "python",
   "nbconvert_exporter": "python",
   "pygments_lexer": "ipython3",
   "version": "3.11.9"
  }
 },
 "nbformat": 4,
 "nbformat_minor": 5
}
